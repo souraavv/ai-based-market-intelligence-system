{
 "cells": [
  {
   "cell_type": "code",
   "execution_count": 1,
   "metadata": {},
   "outputs": [],
   "source": [
    "from datetime import datetime\n",
    "import pandas as pd"
   ]
  },
  {
   "cell_type": "code",
   "execution_count": 21,
   "metadata": {},
   "outputs": [],
   "source": [
    "start_date, end_date = '2006-01-01', '2006-02-10'\n",
    "filter_dates = {}\n",
    "for d in pd.date_range(start=start_date, end=end_date):\n",
    "    if d.year not in filter_dates:\n",
    "        filter_dates[d.year] = []\n",
    "    filter_dates[d.year].append(d.strftime('%Y-%m-%d'))\n",
    "    # print(d.strftime('%Y-%m-%d'))"
   ]
  },
  {
   "cell_type": "code",
   "execution_count": 8,
   "metadata": {},
   "outputs": [
    {
     "data": {
      "text/plain": [
       "DatetimeIndex(['2006-01-01', '2006-01-02', '2006-01-03', '2006-01-04',\n",
       "               '2006-01-05', '2006-01-06', '2006-01-07', '2006-01-08',\n",
       "               '2006-01-09', '2006-01-10', '2006-01-11', '2006-01-12',\n",
       "               '2006-01-13', '2006-01-14', '2006-01-15', '2006-01-16',\n",
       "               '2006-01-17', '2006-01-18', '2006-01-19', '2006-01-20',\n",
       "               '2006-01-21', '2006-01-22', '2006-01-23', '2006-01-24',\n",
       "               '2006-01-25', '2006-01-26', '2006-01-27', '2006-01-28',\n",
       "               '2006-01-29', '2006-01-30', '2006-01-31', '2006-02-01',\n",
       "               '2006-02-02', '2006-02-03', '2006-02-04', '2006-02-05',\n",
       "               '2006-02-06', '2006-02-07', '2006-02-08', '2006-02-09',\n",
       "               '2006-02-10'],\n",
       "              dtype='datetime64[ns]', freq='D')"
      ]
     },
     "execution_count": 8,
     "metadata": {},
     "output_type": "execute_result"
    }
   ],
   "source": [
    "start_date, end_date = '2006-01-01', '2006-02-10'\n",
    "pd.date_range(start=start_date, end=end_date)"
   ]
  },
  {
   "cell_type": "code",
   "execution_count": 4,
   "metadata": {},
   "outputs": [],
   "source": [
    "from pprint import pprint"
   ]
  },
  {
   "cell_type": "code",
   "execution_count": 25,
   "metadata": {},
   "outputs": [
    {
     "data": {
      "text/html": [
       "<div>\n",
       "<style scoped>\n",
       "    .dataframe tbody tr th:only-of-type {\n",
       "        vertical-align: middle;\n",
       "    }\n",
       "\n",
       "    .dataframe tbody tr th {\n",
       "        vertical-align: top;\n",
       "    }\n",
       "\n",
       "    .dataframe thead th {\n",
       "        text-align: right;\n",
       "    }\n",
       "</style>\n",
       "<table border=\"1\" class=\"dataframe\">\n",
       "  <thead>\n",
       "    <tr style=\"text-align: right;\">\n",
       "      <th></th>\n",
       "      <th>PRICE</th>\n",
       "      <th>IMPUTED</th>\n",
       "    </tr>\n",
       "    <tr>\n",
       "      <th>DATE</th>\n",
       "      <th></th>\n",
       "      <th></th>\n",
       "    </tr>\n",
       "  </thead>\n",
       "  <tbody>\n",
       "    <tr>\n",
       "      <th>2006-01-01</th>\n",
       "      <td>1140</td>\n",
       "      <td>1</td>\n",
       "    </tr>\n",
       "    <tr>\n",
       "      <th>2006-01-02</th>\n",
       "      <td>1140</td>\n",
       "      <td>0</td>\n",
       "    </tr>\n",
       "    <tr>\n",
       "      <th>2006-01-03</th>\n",
       "      <td>1145</td>\n",
       "      <td>0</td>\n",
       "    </tr>\n",
       "    <tr>\n",
       "      <th>2006-01-04</th>\n",
       "      <td>1160</td>\n",
       "      <td>0</td>\n",
       "    </tr>\n",
       "    <tr>\n",
       "      <th>2006-01-05</th>\n",
       "      <td>1150</td>\n",
       "      <td>0</td>\n",
       "    </tr>\n",
       "  </tbody>\n",
       "</table>\n",
       "</div>"
      ],
      "text/plain": [
       "            PRICE  IMPUTED\n",
       "DATE                      \n",
       "2006-01-01   1140        1\n",
       "2006-01-02   1140        0\n",
       "2006-01-03   1145        0\n",
       "2006-01-04   1160        0\n",
       "2006-01-05   1150        0"
      ]
     },
     "execution_count": 25,
     "metadata": {},
     "output_type": "execute_result"
    }
   ],
   "source": [
    "df = pd.read_csv('/home/baadalvm/market_intelligence_system/data/imputed_data/soyabean/prices/madhya_pradesh_ujjain_prices.csv', index_col=['DATE'])\n",
    "df.head()"
   ]
  },
  {
   "cell_type": "code",
   "execution_count": null,
   "metadata": {},
   "outputs": [],
   "source": []
  },
  {
   "cell_type": "code",
   "execution_count": 29,
   "metadata": {},
   "outputs": [],
   "source": [
    "data = []\n",
    "for year, dates in filter_dates.items():\n",
    "    fdf = df.loc[dates]\n",
    "    data = []\n",
    "    for idx, row in fdf.iterrows():\n",
    "        data.append({'DATE': idx, 'PRICE': row['PRICE']})"
   ]
  },
  {
   "cell_type": "code",
   "execution_count": 30,
   "metadata": {},
   "outputs": [
    {
     "name": "stdout",
     "output_type": "stream",
     "text": [
      "[{'DATE': '2006-01-01', 'PRICE': 1140},\n",
      " {'DATE': '2006-01-02', 'PRICE': 1140},\n",
      " {'DATE': '2006-01-03', 'PRICE': 1145},\n",
      " {'DATE': '2006-01-04', 'PRICE': 1160},\n",
      " {'DATE': '2006-01-05', 'PRICE': 1150},\n",
      " {'DATE': '2006-01-06', 'PRICE': 1275},\n",
      " {'DATE': '2006-01-07', 'PRICE': 1140},\n",
      " {'DATE': '2006-01-08', 'PRICE': 1000},\n",
      " {'DATE': '2006-01-09', 'PRICE': 1165},\n",
      " {'DATE': '2006-01-10', 'PRICE': 1018},\n",
      " {'DATE': '2006-01-11', 'PRICE': 1018},\n",
      " {'DATE': '2006-01-12', 'PRICE': 1150},\n",
      " {'DATE': '2006-01-13', 'PRICE': 1029},\n",
      " {'DATE': '2006-01-14', 'PRICE': 1029},\n",
      " {'DATE': '2006-01-15', 'PRICE': 1029},\n",
      " {'DATE': '2006-01-16', 'PRICE': 1145},\n",
      " {'DATE': '2006-01-17', 'PRICE': 1145},\n",
      " {'DATE': '2006-01-18', 'PRICE': 1145},\n",
      " {'DATE': '2006-01-19', 'PRICE': 1135},\n",
      " {'DATE': '2006-01-20', 'PRICE': 1140},\n",
      " {'DATE': '2006-01-21', 'PRICE': 1140},\n",
      " {'DATE': '2006-01-22', 'PRICE': 1056},\n",
      " {'DATE': '2006-01-23', 'PRICE': 1155},\n",
      " {'DATE': '2006-01-24', 'PRICE': 1140},\n",
      " {'DATE': '2006-01-25', 'PRICE': 1068},\n",
      " {'DATE': '2006-01-26', 'PRICE': 1068},\n",
      " {'DATE': '2006-01-27', 'PRICE': 1068},\n",
      " {'DATE': '2006-01-28', 'PRICE': 1068},\n",
      " {'DATE': '2006-01-29', 'PRICE': 1068},\n",
      " {'DATE': '2006-01-30', 'PRICE': 1068},\n",
      " {'DATE': '2006-01-31', 'PRICE': 1068},\n",
      " {'DATE': '2006-02-01', 'PRICE': 1150},\n",
      " {'DATE': '2006-02-02', 'PRICE': 1140},\n",
      " {'DATE': '2006-02-03', 'PRICE': 1155},\n",
      " {'DATE': '2006-02-04', 'PRICE': 1160},\n",
      " {'DATE': '2006-02-05', 'PRICE': 1078},\n",
      " {'DATE': '2006-02-06', 'PRICE': 1078},\n",
      " {'DATE': '2006-02-07', 'PRICE': 1160},\n",
      " {'DATE': '2006-02-08', 'PRICE': 1150},\n",
      " {'DATE': '2006-02-09', 'PRICE': 1082},\n",
      " {'DATE': '2006-02-10', 'PRICE': 1082}]\n"
     ]
    }
   ],
   "source": [
    "pprint(data)"
   ]
  },
  {
   "cell_type": "code",
   "execution_count": 10,
   "metadata": {},
   "outputs": [
    {
     "name": "stdout",
     "output_type": "stream",
     "text": [
      "{2006: [datetime.date(2006, 1, 1),\n",
      "        datetime.date(2006, 1, 2),\n",
      "        datetime.date(2006, 1, 3),\n",
      "        datetime.date(2006, 1, 4),\n",
      "        datetime.date(2006, 1, 5),\n",
      "        datetime.date(2006, 1, 6),\n",
      "        datetime.date(2006, 1, 7),\n",
      "        datetime.date(2006, 1, 8),\n",
      "        datetime.date(2006, 1, 9),\n",
      "        datetime.date(2006, 1, 10),\n",
      "        datetime.date(2006, 1, 11),\n",
      "        datetime.date(2006, 1, 12),\n",
      "        datetime.date(2006, 1, 13),\n",
      "        datetime.date(2006, 1, 14),\n",
      "        datetime.date(2006, 1, 15),\n",
      "        datetime.date(2006, 1, 16),\n",
      "        datetime.date(2006, 1, 17),\n",
      "        datetime.date(2006, 1, 18),\n",
      "        datetime.date(2006, 1, 19),\n",
      "        datetime.date(2006, 1, 20),\n",
      "        datetime.date(2006, 1, 21),\n",
      "        datetime.date(2006, 1, 22),\n",
      "        datetime.date(2006, 1, 23),\n",
      "        datetime.date(2006, 1, 24),\n",
      "        datetime.date(2006, 1, 25),\n",
      "        datetime.date(2006, 1, 26),\n",
      "        datetime.date(2006, 1, 27),\n",
      "        datetime.date(2006, 1, 28),\n",
      "        datetime.date(2006, 1, 29),\n",
      "        datetime.date(2006, 1, 30),\n",
      "        datetime.date(2006, 1, 31),\n",
      "        datetime.date(2006, 2, 1),\n",
      "        datetime.date(2006, 2, 2),\n",
      "        datetime.date(2006, 2, 3),\n",
      "        datetime.date(2006, 2, 4),\n",
      "        datetime.date(2006, 2, 5),\n",
      "        datetime.date(2006, 2, 6),\n",
      "        datetime.date(2006, 2, 7),\n",
      "        datetime.date(2006, 2, 8),\n",
      "        datetime.date(2006, 2, 9),\n",
      "        datetime.date(2006, 2, 10)]}\n"
     ]
    }
   ],
   "source": [
    "pprint(filter_dates)"
   ]
  },
  {
   "cell_type": "code",
   "execution_count": 1,
   "metadata": {},
   "outputs": [],
   "source": [
    "import firebase_admin\n",
    "from firebase_admin import credentials, firestore\n",
    "import os\n",
    "\n",
    "# paths\n",
    "par_dir = os.path.abspath(os.path.join(os.getcwd(), '..', '..'))\n",
    "data_dir = os.path.join(par_dir, 'data')\n",
    "\n",
    "# firebase authentication\n",
    "cred_obj = credentials.Certificate(os.path.join(par_dir, 'code', 'utilities', 'key_firebase.json'))\n",
    "firebase_admin.initialize_app(cred_obj)\n",
    "db = firestore.client()"
   ]
  },
  {
   "cell_type": "code",
   "execution_count": 3,
   "metadata": {},
   "outputs": [
    {
     "name": "stdout",
     "output_type": "stream",
     "text": [
      "[]\n",
      "False\n"
     ]
    }
   ],
   "source": [
    "query = db.collection('MAHARASHTRA_NAGPUR_Recommendation').where('name', '==', '2020-07-09')\n",
    "query_results = query.get()\n",
    "print(query_results)\n",
    "print(len(query_results) > 0)"
   ]
  },
  {
   "cell_type": "code",
   "execution_count": 9,
   "metadata": {},
   "outputs": [],
   "source": [
    "collection_name = 'RAJASTHAN_KOTA_Recommendation_Test'\n",
    "\n",
    "# Get all documents in the collection\n",
    "collection_ref = db.collection(collection_name)\n",
    "\n",
    "# Retrieve all documents in the collection\n",
    "docs = collection_ref.stream()\n",
    "\n",
    "# Delete each document in the collection\n",
    "for doc in docs:\n",
    "    doc.reference.delete()"
   ]
  }
 ],
 "metadata": {
  "kernelspec": {
   "display_name": "demo",
   "language": "python",
   "name": "python3"
  },
  "language_info": {
   "codemirror_mode": {
    "name": "ipython",
    "version": 3
   },
   "file_extension": ".py",
   "mimetype": "text/x-python",
   "name": "python",
   "nbconvert_exporter": "python",
   "pygments_lexer": "ipython3",
   "version": "3.6.13"
  },
  "orig_nbformat": 4
 },
 "nbformat": 4,
 "nbformat_minor": 2
}
